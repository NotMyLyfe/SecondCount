{
 "cells": [
  {
   "cell_type": "code",
   "execution_count": 220,
   "metadata": {},
   "outputs": [
    {
     "data": {
      "text/plain": [
       "device(type='mps')"
      ]
     },
     "execution_count": 220,
     "metadata": {},
     "output_type": "execute_result"
    }
   ],
   "source": [
    "from torch import nn\n",
    "import torch\n",
    "\n",
    "device = \"cpu\"\n",
    "\n",
    "if torch.cuda.is_available():\n",
    "    device = \"cuda\"\n",
    "elif torch.backends.mps.is_available():\n",
    "    device = \"mps\"\n",
    "\n",
    "torch.device(device)"
   ]
  },
  {
   "cell_type": "code",
   "execution_count": 221,
   "metadata": {},
   "outputs": [],
   "source": [
    "import pandas as pd\n",
    "\n",
    "rcsb_data = pd.read_csv(\"data/rcsb/RCSB_PDB_Macromolecular_Structure_Dataset_with_Structural_Features.csv\")"
   ]
  },
  {
   "cell_type": "code",
   "execution_count": 222,
   "metadata": {},
   "outputs": [],
   "source": [
    "filtered_data = rcsb_data[rcsb_data[\"Entity Polymer Type\"] == \"Protein\"]\n",
    "filtered_data = filtered_data.loc[:,[\"Sequence\", \"Number of Residues\", \"Molecular Weight per Deposited Model\", \"Molecular Weight (Entity)\", \"R Free\", \"R Work\", \"Helix\", \"Sheet\", \"Coil\"]]\n",
    "filtered_data = filtered_data.dropna()"
   ]
  },
  {
   "cell_type": "code",
   "execution_count": 223,
   "metadata": {},
   "outputs": [],
   "source": [
    "amino_acids = [\"A\", \"C\", \"D\", \"E\", \"F\", \"G\", \"H\", \"I\", \"K\", \"L\", \"M\", \"N\", \"P\", \"Q\", \"R\", \"S\", \"T\", \"V\", \"W\", \"Y\", \"X\", \"U\", \"O\"]\n",
    "additional_tokens = [\"<pad>\", \"<sos>\", \"<eos>\"]\n",
    "\n",
    "amino_acid_tokens = {aa : i for i, aa in enumerate(additional_tokens + amino_acids)}\n",
    "tokens_to_amino_acid = {i : aa for i, aa in enumerate(additional_tokens + amino_acids)}\n",
    "\n",
    "def amino_acid_tokenizer(amino_acid : str, amino_acid_tokens) -> torch.Tensor:\n",
    "    return torch.tensor([amino_acid_tokens[aa] for aa in amino_acid] + [amino_acid_tokens[\"<eos>\"]], dtype=torch.long)"
   ]
  },
  {
   "cell_type": "code",
   "execution_count": 224,
   "metadata": {},
   "outputs": [],
   "source": [
    "# Normalize additional features\n",
    "filtered_data[\"Number of Residues\"] = (filtered_data[\"Number of Residues\"] - filtered_data[\"Number of Residues\"].mean()) / filtered_data[\"Number of Residues\"].std()\n",
    "filtered_data[\"Molecular Weight per Deposited Model\"] = (filtered_data[\"Molecular Weight per Deposited Model\"] - filtered_data[\"Molecular Weight per Deposited Model\"].mean()) / filtered_data[\"Molecular Weight per Deposited Model\"].std()\n",
    "filtered_data[\"Molecular Weight (Entity)\"] = (filtered_data[\"Molecular Weight (Entity)\"] - filtered_data[\"Molecular Weight (Entity)\"].mean()) / filtered_data[\"Molecular Weight (Entity)\"].std()\n",
    "filtered_data[\"R Free\"] = (filtered_data[\"R Free\"] - filtered_data[\"R Free\"].mean()) / filtered_data[\"R Free\"].std()\n",
    "filtered_data[\"R Work\"] = (filtered_data[\"R Work\"] - filtered_data[\"R Work\"].mean()) / filtered_data[\"R Work\"].std()"
   ]
  },
  {
   "cell_type": "code",
   "execution_count": 225,
   "metadata": {},
   "outputs": [],
   "source": [
    "scrambled_data = filtered_data.sample(frac=1)\n",
    "scrambled_data = scrambled_data.reset_index(drop=True)\n",
    "\n",
    "data_size = len(scrambled_data)\n",
    "train_size = int(data_size * 0.8)\n",
    "test_size = data_size - train_size\n",
    "validation_size = int(train_size * 0.2)\n",
    "\n",
    "train_data = scrambled_data.iloc[:train_size - validation_size]\n",
    "validation_data = scrambled_data.iloc[train_size - validation_size:train_size]\n",
    "test_data = scrambled_data.iloc[train_size:]\n",
    "\n",
    "train_data = train_data.reset_index(drop=True)\n",
    "validation_data = validation_data.reset_index(drop=True)\n",
    "test_data = test_data.reset_index(drop=True)"
   ]
  },
  {
   "cell_type": "code",
   "execution_count": 226,
   "metadata": {},
   "outputs": [],
   "source": [
    "train_input_df = train_data.loc[:,[\"Sequence\", \"Number of Residues\", \"Molecular Weight per Deposited Model\", \"Molecular Weight (Entity)\", \"R Free\", \"R Work\"]]\n",
    "train_output_df = train_data.loc[:,[\"Helix\", \"Sheet\", \"Coil\"]]\n",
    "validation_input_df = validation_data.loc[:,[\"Sequence\", \"Number of Residues\", \"Molecular Weight per Deposited Model\", \"Molecular Weight (Entity)\", \"R Free\", \"R Work\"]]\n",
    "validation_output_df = validation_data.loc[:,[\"Helix\", \"Sheet\", \"Coil\"]]\n",
    "test_input_df = test_data.loc[:,[\"Sequence\", \"Number of Residues\", \"Molecular Weight per Deposited Model\", \"Molecular Weight (Entity)\", \"R Free\", \"R Work\"]]\n",
    "test_output_df = test_data.loc[:,[\"Helix\", \"Sheet\", \"Coil\"]]"
   ]
  },
  {
   "cell_type": "code",
   "execution_count": 227,
   "metadata": {},
   "outputs": [],
   "source": [
    "def create_dataset(input_df, output_df):\n",
    "    input_tensors = torch.tensor(input_df.drop(columns=[\"Sequence\"]).values, dtype=torch.float)\n",
    "\n",
    "    tokenized_sequences = input_df[\"Sequence\"].apply(amino_acid_tokenizer, amino_acid_tokens = amino_acid_tokens)\n",
    "\n",
    "    input_tensor_sequences = torch.nn.utils.rnn.pad_sequence(tokenized_sequences, batch_first = True, padding_value=amino_acid_tokens[\"<pad>\"])\n",
    "    \n",
    "    sequence_list_lengths = torch.tensor([len(sequence) for sequence in tokenized_sequences], dtype=torch.int)\n",
    "\n",
    "    output_tensors = torch.tensor(output_df.values, dtype=torch.float)\n",
    "\n",
    "    return torch.utils.data.TensorDataset(input_tensors, input_tensor_sequences, sequence_list_lengths, output_tensors)"
   ]
  },
  {
   "cell_type": "code",
   "execution_count": 228,
   "metadata": {},
   "outputs": [],
   "source": [
    "train_dataset = create_dataset(train_input_df, train_output_df)\n",
    "validation_dataset = create_dataset(validation_input_df, validation_output_df)\n",
    "test_dataset = create_dataset(test_input_df, test_output_df)"
   ]
  },
  {
   "cell_type": "code",
   "execution_count": 229,
   "metadata": {},
   "outputs": [],
   "source": [
    "training_dataloader = torch.utils.data.DataLoader(train_dataset, batch_size=32, shuffle=True)\n",
    "validation_dataloader = torch.utils.data.DataLoader(validation_dataset, batch_size=32, shuffle=True)\n",
    "test_dataloader = torch.utils.data.DataLoader(test_dataset, batch_size=32, shuffle=True)"
   ]
  },
  {
   "cell_type": "code",
   "execution_count": 230,
   "metadata": {},
   "outputs": [],
   "source": [
    "from torch.utils.tensorboard import SummaryWriter\n",
    "from torch.optim import Optimizer\n",
    "from torch.utils.data import DataLoader"
   ]
  },
  {
   "cell_type": "code",
   "execution_count": 231,
   "metadata": {},
   "outputs": [],
   "source": [
    "from typing import List, Tuple"
   ]
  },
  {
   "cell_type": "code",
   "execution_count": 232,
   "metadata": {},
   "outputs": [],
   "source": [
    "def train(epoch : int,\n",
    "          encoder : nn.Module,\n",
    "          model : nn.Module,\n",
    "          encoder_optimizer : Optimizer,\n",
    "          model_optimizer : Optimizer,\n",
    "          dataloader : DataLoader,\n",
    "          model_criterion : nn.Module,\n",
    "          writer : SummaryWriter = None) -> float:\n",
    "    encoder.train()\n",
    "    model.train()\n",
    "\n",
    "    running_loss = 0.\n",
    "\n",
    "    for idx, (structural_data, sequence_data, sequence_length, output_data) in enumerate(dataloader):\n",
    "        structural_data = structural_data.to(device)\n",
    "        sequence_data = sequence_data.to(device)\n",
    "        sequence_length = sequence_length.to(device)\n",
    "        output_data = output_data.to(device)\n",
    "\n",
    "        encoder_optimizer.zero_grad()\n",
    "        model_optimizer.zero_grad()\n",
    "\n",
    "        _, encoder_hidden = encoder(sequence_data, sequence_length)\n",
    "        model_output = model(structural_data, encoder_hidden)\n",
    "\n",
    "        model_loss = model_criterion(model_output, output_data)\n",
    "\n",
    "        model_loss.backward()\n",
    "\n",
    "        model_optimizer.step()\n",
    "        encoder_optimizer.step()\n",
    "        \n",
    "        running_loss += model_loss.item()\n",
    "\n",
    "        if writer is not None:\n",
    "            writer.add_scalar(\"Loss/Train\", model_loss.item(), epoch * len(dataloader) + idx)\n",
    "    \n",
    "    running_loss /= len(dataloader)\n",
    "\n",
    "    if writer is not None:\n",
    "        writer.add_scalar(\"Loss/Train/Epoch\", running_loss, epoch)\n",
    "\n",
    "    return running_loss"
   ]
  },
  {
   "cell_type": "code",
   "execution_count": 233,
   "metadata": {},
   "outputs": [],
   "source": [
    "def validate(epoch : int,\n",
    "             encoder : nn.Module,\n",
    "             model : nn.Module,\n",
    "             dataloader : DataLoader,\n",
    "             model_criterion : nn.Module,\n",
    "             writer : SummaryWriter = None) -> Tuple[float, float]:\n",
    "    encoder.eval()\n",
    "    model.eval()\n",
    "\n",
    "    running_loss = 0.\n",
    "\n",
    "    with torch.no_grad():\n",
    "        for idx, (structural_data, sequence_data, sequence_length, output_data) in enumerate(dataloader):\n",
    "            structural_data = structural_data.to(device)\n",
    "            sequence_data = sequence_data.to(device)\n",
    "            sequence_length = sequence_length.to(device)\n",
    "            output_data = output_data.to(device)\n",
    "\n",
    "            _, encoder_hidden = encoder(sequence_data, sequence_length)\n",
    "            model_output = model(structural_data, encoder_hidden)\n",
    "\n",
    "            model_loss = model_criterion(model_output, output_data)\n",
    "\n",
    "            running_loss += model_loss.item()\n",
    "\n",
    "            if writer is not None:\n",
    "                writer.add_scalar(\"Loss/Validation\", model_loss.item(), epoch * len(dataloader) + idx)\n",
    "    \n",
    "    running_loss /= len(dataloader)\n",
    "\n",
    "    if writer is not None:\n",
    "        writer.add_scalar(\"Loss/Validation/Epoch\", running_loss, epoch)\n",
    "\n",
    "    return running_loss"
   ]
  },
  {
   "cell_type": "code",
   "execution_count": 234,
   "metadata": {},
   "outputs": [],
   "source": [
    "def test(encoder : nn.Module,\n",
    "         model : nn.Module,\n",
    "         dataloader : DataLoader,\n",
    "         model_criterion : nn.Module) -> Tuple[float, float]:\n",
    "    encoder.eval()\n",
    "    model.eval()\n",
    "\n",
    "    running_loss = 0.\n",
    "\n",
    "    with torch.no_grad():\n",
    "        for idx, (structural_data, sequence_data, sequence_length, output_data) in enumerate(dataloader):\n",
    "            structural_data = structural_data.to(device)\n",
    "            sequence_data = sequence_data.to(device)\n",
    "            sequence_length = sequence_length.to(device)\n",
    "            output_data = output_data.to(device)\n",
    "\n",
    "            _, encoder_hidden = encoder(sequence_data, sequence_length)\n",
    "            model_output = model(structural_data, encoder_hidden)\n",
    "\n",
    "            model_loss = model_criterion(model_output, output_data)\n",
    "\n",
    "            running_loss += model_loss.item()\n",
    "                \n",
    "    running_loss /= len(dataloader)\n",
    "\n",
    "    return running_loss"
   ]
  },
  {
   "cell_type": "code",
   "execution_count": 235,
   "metadata": {},
   "outputs": [],
   "source": [
    "from datetime import datetime"
   ]
  },
  {
   "cell_type": "code",
   "execution_count": 236,
   "metadata": {},
   "outputs": [],
   "source": [
    "import pathlib\n",
    "\n",
    "def train_model(encoder : nn.Module,\n",
    "                model : nn.Module,\n",
    "                device : torch.device,\n",
    "                training_dataloader : DataLoader,\n",
    "                validation_dataloader : DataLoader,\n",
    "                test_dataloader : DataLoader,\n",
    "                encoder_optimizer : Optimizer,\n",
    "                model_optimizer : Optimizer,\n",
    "                model_loss_fn : nn.Module,\n",
    "                epochs : int,\n",
    "                model_name : str = \"SecondCount\") -> float:\n",
    "    timestamp = datetime.now().strftime(\"%Y-%m-%d_%H-%M-%S\")\n",
    "    tensorboard_writer = SummaryWriter(log_dir=f\"runs/{model_name}-{timestamp}\")\n",
    "\n",
    "    encoder.to(device)\n",
    "    model.to(device)\n",
    "\n",
    "    # Create models directory if it does not exist\n",
    "    pathlib.Path(f\"models/{model_name}-{timestamp}\").mkdir(parents=True, exist_ok=True)\n",
    "\n",
    "    best_model_loss = float(\"inf\")\n",
    "\n",
    "    for epoch in range(epochs):\n",
    "        print(f\"Epoch {epoch + 1}/{epochs}\")\n",
    "\n",
    "        train_loss = train(epoch, encoder, model, encoder_optimizer, model_optimizer, training_dataloader, model_loss_fn, tensorboard_writer)\n",
    "        validation_loss = validate(epoch, encoder, model, validation_dataloader, model_loss_fn, tensorboard_writer)\n",
    "\n",
    "        print(f\"Train Losses: {train_loss}\")\n",
    "        print(f\"Validation Losses: {validation_loss}\")\n",
    "\n",
    "        if validation_loss < best_model_loss:\n",
    "            torch.save(model.state_dict(), f\"models/{model_name}-{timestamp}/model.pt\")\n",
    "            best_model_loss = validation_loss\n",
    "        \n",
    "    test_loss = test(encoder, model, test_dataloader, model_loss_fn)\n",
    "\n",
    "    print(f\"Test Losses: {test_loss}\")\n",
    "\n",
    "    tensorboard_writer.close()\n",
    "\n",
    "    return test_loss\n"
   ]
  },
  {
   "cell_type": "code",
   "execution_count": 237,
   "metadata": {},
   "outputs": [],
   "source": [
    "class Encoder(nn.Module):\n",
    "    def __init__(self, amino_acid_tokens : dict,  embedding_dim : int, hidden_size : int,  bidirecitonal : bool, num_layer : int , device : torch):\n",
    "        super(Encoder, self).__init__()\n",
    "\n",
    "        self.amino_acid_tokens = amino_acid_tokens\n",
    "        self.embedding_dim = embedding_dim\n",
    "        self.hidden_size = hidden_size\n",
    "        self.device = device\n",
    "\n",
    "        self.amino_acid_embedding = nn.Embedding(len(amino_acid_tokens), embedding_dim, padding_idx=amino_acid_tokens[\"<pad>\"])\n",
    "        self.lstm = nn.LSTM(embedding_dim, hidden_size, batch_first = True, bidirectional = bidirecitonal, num_layers = num_layer)\n",
    "\n",
    "    def forward(self, input_tensor_sequences : torch.Tensor, sequence_list_lengths : torch.Tensor) -> torch.Tensor:\n",
    "        embedded_sequences = self.amino_acid_embedding(input_tensor_sequences)\n",
    "\n",
    "        packed_sequences = nn.utils.rnn.pack_padded_sequence(embedded_sequences, sequence_list_lengths.cpu(), batch_first = True, enforce_sorted = False)\n",
    "\n",
    "        output, hidden = self.lstm(packed_sequences)\n",
    "\n",
    "        output, _ = nn.utils.rnn.pad_packed_sequence(output, batch_first = True)\n",
    "\n",
    "        return output, hidden"
   ]
  },
  {
   "cell_type": "code",
   "execution_count": 238,
   "metadata": {},
   "outputs": [],
   "source": [
    "class SecondCountModel(nn.Module):\n",
    "    def __init__(self, hidden_size : int, structural_features_size : int, output_size : int, bidirectional : bool, num_layers : int):\n",
    "        super(SecondCountModel, self).__init__()\n",
    "\n",
    "        hidden_size = hidden_size * (2 if bidirectional else 1) * num_layers\n",
    "\n",
    "        self.hidden_size = hidden_size\n",
    "        self.structural_features_size = structural_features_size\n",
    "\n",
    "        self.hidden_norm = nn.BatchNorm1d(hidden_size)\n",
    "\n",
    "        self.fc = nn.Sequential(\n",
    "            nn.Linear(hidden_size + structural_features_size, hidden_size + structural_features_size),\n",
    "            nn.BatchNorm1d(hidden_size + structural_features_size),\n",
    "            nn.LeakyReLU(),\n",
    "            nn.Dropout(0.5),\n",
    "            nn.Linear(hidden_size + structural_features_size, max(structural_features_size, hidden_size)),\n",
    "            nn.BatchNorm1d(max(structural_features_size, hidden_size)),\n",
    "            nn.LeakyReLU(),\n",
    "            nn.Dropout(0.5),\n",
    "            nn.Linear(max(structural_features_size, hidden_size), output_size)\n",
    "        )\n",
    "\n",
    "    def forward(self, input_tensors : torch.Tensor, hidden : torch.Tensor) -> torch.Tensor:\n",
    "        batch_size = input_tensors.size(0)\n",
    "        hidden = hidden[0].permute(1, 0, 2).reshape(batch_size, -1)\n",
    "\n",
    "        norm_hidden = self.hidden_norm(hidden)\n",
    "\n",
    "        input_tensor = torch.cat([norm_hidden, input_tensors], dim=1)\n",
    "\n",
    "        for m in self.fc:\n",
    "            input_tensor = m(input_tensor)\n",
    "        return input_tensor\n",
    "    "
   ]
  },
  {
   "cell_type": "code",
   "execution_count": 239,
   "metadata": {},
   "outputs": [],
   "source": [
    "class MSLELoss(nn.Module):\n",
    "    def __init__(self, epsilon : float = 1e-7):\n",
    "        super(MSLELoss, self).__init__()\n",
    "        self.epsilon = epsilon\n",
    "\n",
    "    def forward(self, input : torch.Tensor, target : torch.Tensor) -> torch.Tensor:\n",
    "        input = torch.clamp(input, min=self.epsilon)\n",
    "        target = torch.clamp(target, min=self.epsilon)\n",
    "        return torch.mean((torch.log1p(input) - torch.log1p(target)) ** 2)"
   ]
  },
  {
   "cell_type": "code",
   "execution_count": 240,
   "metadata": {},
   "outputs": [],
   "source": [
    "hidden_size = 128\n",
    "bidirectional = True\n",
    "num_layers = 4\n",
    "\n",
    "encoder = Encoder(amino_acid_tokens, 32, hidden_size, bidirectional, num_layers, device)\n",
    "model = SecondCountModel(hidden_size, 5, 3, bidirectional, num_layers)\n",
    "\n",
    "encoder_optimizer = torch.optim.Adam(encoder.parameters())\n",
    "model_optimizer = torch.optim.Adam(model.parameters())\n"
   ]
  },
  {
   "cell_type": "code",
   "execution_count": 241,
   "metadata": {},
   "outputs": [],
   "source": [
    "model_loss = MSLELoss()"
   ]
  },
  {
   "cell_type": "code",
   "execution_count": 242,
   "metadata": {},
   "outputs": [],
   "source": [
    "teacher_forcing_ratio_decay = 0.5"
   ]
  },
  {
   "cell_type": "code",
   "execution_count": 243,
   "metadata": {},
   "outputs": [
    {
     "name": "stdout",
     "output_type": "stream",
     "text": [
      "Epoch 1/1024\n"
     ]
    },
    {
     "ename": "KeyboardInterrupt",
     "evalue": "",
     "output_type": "error",
     "traceback": [
      "\u001b[0;31m---------------------------------------------------------------------------\u001b[0m",
      "\u001b[0;31mKeyboardInterrupt\u001b[0m                         Traceback (most recent call last)",
      "Cell \u001b[0;32mIn[243], line 1\u001b[0m\n\u001b[0;32m----> 1\u001b[0m train_model(encoder, model, device, training_dataloader, validation_dataloader, test_dataloader, encoder_optimizer, model_optimizer, model_loss, \u001b[38;5;241m1024\u001b[39m, \u001b[38;5;124m\"\u001b[39m\u001b[38;5;124mSecondCount\u001b[39m\u001b[38;5;124m\"\u001b[39m)\n",
      "Cell \u001b[0;32mIn[236], line 28\u001b[0m, in \u001b[0;36mtrain_model\u001b[0;34m(encoder, model, device, training_dataloader, validation_dataloader, test_dataloader, encoder_optimizer, model_optimizer, model_loss_fn, epochs, model_name)\u001b[0m\n\u001b[1;32m     25\u001b[0m \u001b[38;5;28;01mfor\u001b[39;00m epoch \u001b[38;5;129;01min\u001b[39;00m \u001b[38;5;28mrange\u001b[39m(epochs):\n\u001b[1;32m     26\u001b[0m     \u001b[38;5;28mprint\u001b[39m(\u001b[38;5;124mf\u001b[39m\u001b[38;5;124m\"\u001b[39m\u001b[38;5;124mEpoch \u001b[39m\u001b[38;5;132;01m{\u001b[39;00mepoch\u001b[38;5;250m \u001b[39m\u001b[38;5;241m+\u001b[39m\u001b[38;5;250m \u001b[39m\u001b[38;5;241m1\u001b[39m\u001b[38;5;132;01m}\u001b[39;00m\u001b[38;5;124m/\u001b[39m\u001b[38;5;132;01m{\u001b[39;00mepochs\u001b[38;5;132;01m}\u001b[39;00m\u001b[38;5;124m\"\u001b[39m)\n\u001b[0;32m---> 28\u001b[0m     train_loss \u001b[38;5;241m=\u001b[39m train(epoch, encoder, model, encoder_optimizer, model_optimizer, training_dataloader, model_loss_fn, tensorboard_writer)\n\u001b[1;32m     29\u001b[0m     validation_loss \u001b[38;5;241m=\u001b[39m validate(epoch, encoder, model, validation_dataloader, model_loss_fn, tensorboard_writer)\n\u001b[1;32m     31\u001b[0m     \u001b[38;5;28mprint\u001b[39m(\u001b[38;5;124mf\u001b[39m\u001b[38;5;124m\"\u001b[39m\u001b[38;5;124mTrain Losses: \u001b[39m\u001b[38;5;132;01m{\u001b[39;00mtrain_loss\u001b[38;5;132;01m}\u001b[39;00m\u001b[38;5;124m\"\u001b[39m)\n",
      "Cell \u001b[0;32mIn[232], line 28\u001b[0m, in \u001b[0;36mtrain\u001b[0;34m(epoch, encoder, model, encoder_optimizer, model_optimizer, dataloader, model_criterion, writer)\u001b[0m\n\u001b[1;32m     24\u001b[0m model_output \u001b[38;5;241m=\u001b[39m model(structural_data, encoder_hidden)\n\u001b[1;32m     26\u001b[0m model_loss \u001b[38;5;241m=\u001b[39m model_criterion(model_output, output_data)\n\u001b[0;32m---> 28\u001b[0m model_loss\u001b[38;5;241m.\u001b[39mbackward()\n\u001b[1;32m     30\u001b[0m model_optimizer\u001b[38;5;241m.\u001b[39mstep()\n\u001b[1;32m     31\u001b[0m encoder_optimizer\u001b[38;5;241m.\u001b[39mstep()\n",
      "File \u001b[0;32m~/anaconda3/envs/SecondCount/lib/python3.12/site-packages/torch/_tensor.py:581\u001b[0m, in \u001b[0;36mTensor.backward\u001b[0;34m(self, gradient, retain_graph, create_graph, inputs)\u001b[0m\n\u001b[1;32m    571\u001b[0m \u001b[38;5;28;01mif\u001b[39;00m has_torch_function_unary(\u001b[38;5;28mself\u001b[39m):\n\u001b[1;32m    572\u001b[0m     \u001b[38;5;28;01mreturn\u001b[39;00m handle_torch_function(\n\u001b[1;32m    573\u001b[0m         Tensor\u001b[38;5;241m.\u001b[39mbackward,\n\u001b[1;32m    574\u001b[0m         (\u001b[38;5;28mself\u001b[39m,),\n\u001b[0;32m   (...)\u001b[0m\n\u001b[1;32m    579\u001b[0m         inputs\u001b[38;5;241m=\u001b[39minputs,\n\u001b[1;32m    580\u001b[0m     )\n\u001b[0;32m--> 581\u001b[0m torch\u001b[38;5;241m.\u001b[39mautograd\u001b[38;5;241m.\u001b[39mbackward(\n\u001b[1;32m    582\u001b[0m     \u001b[38;5;28mself\u001b[39m, gradient, retain_graph, create_graph, inputs\u001b[38;5;241m=\u001b[39minputs\n\u001b[1;32m    583\u001b[0m )\n",
      "File \u001b[0;32m~/anaconda3/envs/SecondCount/lib/python3.12/site-packages/torch/autograd/__init__.py:347\u001b[0m, in \u001b[0;36mbackward\u001b[0;34m(tensors, grad_tensors, retain_graph, create_graph, grad_variables, inputs)\u001b[0m\n\u001b[1;32m    342\u001b[0m     retain_graph \u001b[38;5;241m=\u001b[39m create_graph\n\u001b[1;32m    344\u001b[0m \u001b[38;5;66;03m# The reason we repeat the same comment below is that\u001b[39;00m\n\u001b[1;32m    345\u001b[0m \u001b[38;5;66;03m# some Python versions print out the first line of a multi-line function\u001b[39;00m\n\u001b[1;32m    346\u001b[0m \u001b[38;5;66;03m# calls in the traceback and some print out the last line\u001b[39;00m\n\u001b[0;32m--> 347\u001b[0m _engine_run_backward(\n\u001b[1;32m    348\u001b[0m     tensors,\n\u001b[1;32m    349\u001b[0m     grad_tensors_,\n\u001b[1;32m    350\u001b[0m     retain_graph,\n\u001b[1;32m    351\u001b[0m     create_graph,\n\u001b[1;32m    352\u001b[0m     inputs,\n\u001b[1;32m    353\u001b[0m     allow_unreachable\u001b[38;5;241m=\u001b[39m\u001b[38;5;28;01mTrue\u001b[39;00m,\n\u001b[1;32m    354\u001b[0m     accumulate_grad\u001b[38;5;241m=\u001b[39m\u001b[38;5;28;01mTrue\u001b[39;00m,\n\u001b[1;32m    355\u001b[0m )\n",
      "File \u001b[0;32m~/anaconda3/envs/SecondCount/lib/python3.12/site-packages/torch/autograd/graph.py:825\u001b[0m, in \u001b[0;36m_engine_run_backward\u001b[0;34m(t_outputs, *args, **kwargs)\u001b[0m\n\u001b[1;32m    823\u001b[0m     unregister_hooks \u001b[38;5;241m=\u001b[39m _register_logging_hooks_on_whole_graph(t_outputs)\n\u001b[1;32m    824\u001b[0m \u001b[38;5;28;01mtry\u001b[39;00m:\n\u001b[0;32m--> 825\u001b[0m     \u001b[38;5;28;01mreturn\u001b[39;00m Variable\u001b[38;5;241m.\u001b[39m_execution_engine\u001b[38;5;241m.\u001b[39mrun_backward(  \u001b[38;5;66;03m# Calls into the C++ engine to run the backward pass\u001b[39;00m\n\u001b[1;32m    826\u001b[0m         t_outputs, \u001b[38;5;241m*\u001b[39margs, \u001b[38;5;241m*\u001b[39m\u001b[38;5;241m*\u001b[39mkwargs\n\u001b[1;32m    827\u001b[0m     )  \u001b[38;5;66;03m# Calls into the C++ engine to run the backward pass\u001b[39;00m\n\u001b[1;32m    828\u001b[0m \u001b[38;5;28;01mfinally\u001b[39;00m:\n\u001b[1;32m    829\u001b[0m     \u001b[38;5;28;01mif\u001b[39;00m attach_logging_hooks:\n",
      "\u001b[0;31mKeyboardInterrupt\u001b[0m: "
     ]
    }
   ],
   "source": [
    "train_model(encoder, model, device, training_dataloader, validation_dataloader, test_dataloader, encoder_optimizer, model_optimizer, model_loss, 1024, \"SecondCount\")"
   ]
  },
  {
   "cell_type": "code",
   "execution_count": null,
   "metadata": {},
   "outputs": [],
   "source": [
    "encoder.to(device)\n",
    "model.to(device)\n",
    "\n",
    "for idx, (structural_data, sequence_data, sequence_length, output_data) in enumerate(test_dataloader):\n",
    "    structural_data = structural_data.to(device)\n",
    "    sequence_data = sequence_data.to(device)\n",
    "    sequence_length = sequence_length.to(device)\n",
    "    output_data = output_data.to(device)\n",
    "\n",
    "    encoder_output, encoder_hidden = encoder(sequence_data, sequence_length)\n",
    "    model_output = model(structural_data, encoder_hidden)\n",
    "\n",
    "    print(f\"Structural Data: {structural_data}\")\n",
    "    print(f\"Output Data: {output_data}\")\n",
    "    print(f\"Model Output: {model_output}\")"
   ]
  },
  {
   "cell_type": "code",
   "execution_count": null,
   "metadata": {},
   "outputs": [],
   "source": []
  }
 ],
 "metadata": {
  "kernelspec": {
   "display_name": "SecondCount",
   "language": "python",
   "name": "python3"
  },
  "language_info": {
   "codemirror_mode": {
    "name": "ipython",
    "version": 3
   },
   "file_extension": ".py",
   "mimetype": "text/x-python",
   "name": "python",
   "nbconvert_exporter": "python",
   "pygments_lexer": "ipython3",
   "version": "3.12.7"
  }
 },
 "nbformat": 4,
 "nbformat_minor": 2
}
