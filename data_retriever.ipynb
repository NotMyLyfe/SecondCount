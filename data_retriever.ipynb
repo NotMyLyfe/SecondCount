{
 "cells": [
  {
   "cell_type": "code",
   "execution_count": 5,
   "metadata": {},
   "outputs": [],
   "source": [
    "import requests\n",
    "import json"
   ]
  },
  {
   "cell_type": "code",
   "execution_count": 1,
   "metadata": {},
   "outputs": [],
   "source": [
    "query = {\n",
    "    \"query\" : {\n",
    "        \"type\" : \"group\",\n",
    "        \"logical_operator\" : \"and\",\n",
    "        \"nodes\" : [\n",
    "            {\n",
    "                \"type\" : \"terminal\",\n",
    "                \"service\" : \"text\",\n",
    "                \"parameters\" : {\n",
    "                    \"attribute\" : \"rcsb_entry_info.resolution_combined\",\n",
    "                    \"operator\" : \"range\",\n",
    "                    \"value\" : {\n",
    "                        \"from\" : 1,\n",
    "                        \"to\" : 3,\n",
    "                        \"include_lower\" : True,\n",
    "                        \"include_upper\" : True\n",
    "                    }\n",
    "                }\n",
    "            },\n",
    "            {\n",
    "                \"type\": \"terminal\",\n",
    "                \"service\": \"text\",\n",
    "                \"parameters\": {\n",
    "                    \"attribute\": \"rcsb_entity_source_organism.taxonomy_lineage.name\",\n",
    "                    \"operator\": \"exact_match\",\n",
    "                    \"value\": \"Homo sapiens\"\n",
    "                }\n",
    "            },\n",
    "            {\n",
    "                \"type\": \"terminal\",\n",
    "                \"service\": \"text\",\n",
    "                \"parameters\": {\n",
    "                    \"attribute\": \"rcsb_entry_info.selected_polymer_entity_types\",\n",
    "                    \"operator\": \"exact_match\",\n",
    "                    \"value\": \"Protein (only)\"\n",
    "                }\n",
    "            },\n",
    "            {\n",
    "                \"type\": \"terminal\",\n",
    "                \"service\": \"text\",\n",
    "                \"parameters\": {\n",
    "                    \"attribute\": \"rcsb_struct_symmetry.type\",\n",
    "                    \"operator\": \"exact_match\",\n",
    "                    \"value\": \"Asymmetric\"\n",
    "                }\n",
    "            },\n",
    "            {\n",
    "                \"type\": \"terminal\",\n",
    "                \"service\": \"text\",\n",
    "                \"parameters\": {\n",
    "                    \"attribute\": \"entity_poly.rcsb_sample_sequence_length\",\n",
    "                    \"operator\": \"exists\",\n",
    "                }\n",
    "            }\n",
    "        ],\n",
    "        \"label\" : \"text\"\n",
    "    },\n",
    "    \"return_type\": \"entry\",\n",
    "    \"request_options\": {\n",
    "        \"paginate\": {\n",
    "            \"rows\": 10000,\n",
    "            \"start\": 0\n",
    "        },\n",
    "        \"results_content_type\": [\n",
    "            \"experimental\"\n",
    "        ],\n",
    "        \"sort\": [\n",
    "            {\n",
    "                \"sort_by\": \"score\",\n",
    "                \"direction\": \"desc\"\n",
    "            }\n",
    "        ],\n",
    "        \"scoring_strategy\": \"combined\"\n",
    "    }\n",
    "}"
   ]
  },
  {
   "cell_type": "code",
   "execution_count": 3,
   "metadata": {},
   "outputs": [],
   "source": [
    "request_url = \"https://search.rcsb.org/rcsbsearch/v2/query\""
   ]
  },
  {
   "cell_type": "code",
   "execution_count": 17,
   "metadata": {},
   "outputs": [],
   "source": [
    "first_req = requests.get(request_url, params = {\"json\": json.dumps(query, separators=(',', ':'))})"
   ]
  },
  {
   "cell_type": "code",
   "execution_count": 22,
   "metadata": {},
   "outputs": [],
   "source": [
    "identifiers = []\n",
    "for entry in first_req.json()[\"result_set\"]:\n",
    "    identifiers.append(entry[\"identifier\"])"
   ]
  },
  {
   "cell_type": "code",
   "execution_count": 24,
   "metadata": {},
   "outputs": [],
   "source": [
    "for i in range(10000, first_req.json()[\"total_count\"], 10000):\n",
    "    query[\"request_options\"][\"paginate\"][\"start\"] = i\n",
    "    req = requests.get(request_url, params = {\"json\": json.dumps(query, separators=(',', ':'))})\n",
    "    for entry in req.json()[\"result_set\"]:\n",
    "        identifiers.append(entry[\"identifier\"])"
   ]
  },
  {
   "cell_type": "code",
   "execution_count": 27,
   "metadata": {},
   "outputs": [],
   "source": [
    "with open(\"data/rcsb/identifier_list.txt\", \"w\") as f:\n",
    "    for identifier in identifiers:\n",
    "        f.write(identifier + \"\\n\")"
   ]
  },
  {
   "cell_type": "code",
   "execution_count": null,
   "metadata": {},
   "outputs": [],
   "source": []
  }
 ],
 "metadata": {
  "kernelspec": {
   "display_name": "SecondCount",
   "language": "python",
   "name": "python3"
  },
  "language_info": {
   "codemirror_mode": {
    "name": "ipython",
    "version": 3
   },
   "file_extension": ".py",
   "mimetype": "text/x-python",
   "name": "python",
   "nbconvert_exporter": "python",
   "pygments_lexer": "ipython3",
   "version": "3.12.7"
  }
 },
 "nbformat": 4,
 "nbformat_minor": 2
}
